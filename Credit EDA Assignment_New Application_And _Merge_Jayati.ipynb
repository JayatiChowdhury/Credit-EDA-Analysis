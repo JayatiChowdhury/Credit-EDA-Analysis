{
 "cells": [
  {
   "cell_type": "code",
   "execution_count": 1,
   "id": "01d78cd1",
   "metadata": {},
   "outputs": [
    {
     "name": "stdout",
     "output_type": "stream",
     "text": [
      "Requirement already satisfied: plotly in c:\\python\\lib\\site-packages (5.9.0)\n",
      "Requirement already satisfied: tenacity>=6.2.0 in c:\\python\\lib\\site-packages (from plotly) (8.0.1)\n",
      "Note: you may need to restart the kernel to use updated packages.\n"
     ]
    }
   ],
   "source": [
    "pip install plotly"
   ]
  },
  {
   "cell_type": "code",
   "execution_count": 2,
   "id": "de18f0e6",
   "metadata": {},
   "outputs": [
    {
     "name": "stdout",
     "output_type": "stream",
     "text": [
      "Requirement already satisfied: cufflinks in c:\\python\\lib\\site-packages (0.17.3)\n",
      "Requirement already satisfied: six>=1.9.0 in c:\\python\\lib\\site-packages (from cufflinks) (1.16.0)\n",
      "Requirement already satisfied: colorlover>=0.2.1 in c:\\python\\lib\\site-packages (from cufflinks) (0.3.0)\n",
      "Requirement already satisfied: numpy>=1.9.2 in c:\\python\\lib\\site-packages (from cufflinks) (1.20.3)\n",
      "Requirement already satisfied: ipython>=5.3.0 in c:\\python\\lib\\site-packages (from cufflinks) (7.29.0)\n",
      "Requirement already satisfied: ipywidgets>=7.0.0 in c:\\python\\lib\\site-packages (from cufflinks) (7.6.5)\n",
      "Requirement already satisfied: setuptools>=34.4.1 in c:\\python\\lib\\site-packages (from cufflinks) (58.0.4)\n",
      "Requirement already satisfied: plotly>=4.1.1 in c:\\python\\lib\\site-packages (from cufflinks) (5.9.0)\n",
      "Requirement already satisfied: pandas>=0.19.2 in c:\\python\\lib\\site-packages (from cufflinks) (1.3.4)\n",
      "Requirement already satisfied: jedi>=0.16 in c:\\python\\lib\\site-packages (from ipython>=5.3.0->cufflinks) (0.18.0)\n",
      "Requirement already satisfied: pickleshare in c:\\python\\lib\\site-packages (from ipython>=5.3.0->cufflinks) (0.7.5)\n",
      "Requirement already satisfied: colorama in c:\\python\\lib\\site-packages (from ipython>=5.3.0->cufflinks) (0.4.4)\n",
      "Requirement already satisfied: traitlets>=4.2 in c:\\python\\lib\\site-packages (from ipython>=5.3.0->cufflinks) (5.1.0)\n",
      "Requirement already satisfied: matplotlib-inline in c:\\python\\lib\\site-packages (from ipython>=5.3.0->cufflinks) (0.1.2)\n",
      "Requirement already satisfied: decorator in c:\\python\\lib\\site-packages (from ipython>=5.3.0->cufflinks) (5.1.0)\n",
      "Requirement already satisfied: pygments in c:\\python\\lib\\site-packages (from ipython>=5.3.0->cufflinks) (2.10.0)\n",
      "Requirement already satisfied: backcall in c:\\python\\lib\\site-packages (from ipython>=5.3.0->cufflinks) (0.2.0)\n",
      "Requirement already satisfied: prompt-toolkit!=3.0.0,!=3.0.1,<3.1.0,>=2.0.0 in c:\\python\\lib\\site-packages (from ipython>=5.3.0->cufflinks) (3.0.20)\n",
      "Requirement already satisfied: widgetsnbextension~=3.5.0 in c:\\python\\lib\\site-packages (from ipywidgets>=7.0.0->cufflinks) (3.5.1)\n",
      "Requirement already satisfied: ipython-genutils~=0.2.0 in c:\\python\\lib\\site-packages (from ipywidgets>=7.0.0->cufflinks) (0.2.0)\n",
      "Requirement already satisfied: jupyterlab-widgets>=1.0.0 in c:\\python\\lib\\site-packages (from ipywidgets>=7.0.0->cufflinks) (1.0.0)\n",
      "Requirement already satisfied: nbformat>=4.2.0 in c:\\python\\lib\\site-packages (from ipywidgets>=7.0.0->cufflinks) (5.1.3)\n",
      "Requirement already satisfied: ipykernel>=4.5.1 in c:\\python\\lib\\site-packages (from ipywidgets>=7.0.0->cufflinks) (6.4.1)\n",
      "Requirement already satisfied: tornado<7.0,>=4.2 in c:\\python\\lib\\site-packages (from ipykernel>=4.5.1->ipywidgets>=7.0.0->cufflinks) (6.1)\n",
      "Requirement already satisfied: jupyter-client<8.0 in c:\\python\\lib\\site-packages (from ipykernel>=4.5.1->ipywidgets>=7.0.0->cufflinks) (6.1.12)\n",
      "Requirement already satisfied: debugpy<2.0,>=1.0.0 in c:\\python\\lib\\site-packages (from ipykernel>=4.5.1->ipywidgets>=7.0.0->cufflinks) (1.4.1)\n",
      "Requirement already satisfied: parso<0.9.0,>=0.8.0 in c:\\python\\lib\\site-packages (from jedi>=0.16->ipython>=5.3.0->cufflinks) (0.8.2)\n",
      "Requirement already satisfied: python-dateutil>=2.1 in c:\\python\\lib\\site-packages (from jupyter-client<8.0->ipykernel>=4.5.1->ipywidgets>=7.0.0->cufflinks) (2.8.2)\n",
      "Requirement already satisfied: jupyter-core>=4.6.0 in c:\\python\\lib\\site-packages (from jupyter-client<8.0->ipykernel>=4.5.1->ipywidgets>=7.0.0->cufflinks) (4.8.1)\n",
      "Requirement already satisfied: pyzmq>=13 in c:\\python\\lib\\site-packages (from jupyter-client<8.0->ipykernel>=4.5.1->ipywidgets>=7.0.0->cufflinks) (22.2.1)\n",
      "Requirement already satisfied: pywin32>=1.0 in c:\\python\\lib\\site-packages (from jupyter-core>=4.6.0->jupyter-client<8.0->ipykernel>=4.5.1->ipywidgets>=7.0.0->cufflinks) (228)\n",
      "Requirement already satisfied: jsonschema!=2.5.0,>=2.4 in c:\\python\\lib\\site-packages (from nbformat>=4.2.0->ipywidgets>=7.0.0->cufflinks) (3.2.0)\n",
      "Requirement already satisfied: attrs>=17.4.0 in c:\\python\\lib\\site-packages (from jsonschema!=2.5.0,>=2.4->nbformat>=4.2.0->ipywidgets>=7.0.0->cufflinks) (21.2.0)\n",
      "Requirement already satisfied: pyrsistent>=0.14.0 in c:\\python\\lib\\site-packages (from jsonschema!=2.5.0,>=2.4->nbformat>=4.2.0->ipywidgets>=7.0.0->cufflinks) (0.18.0)\n",
      "Requirement already satisfied: pytz>=2017.3 in c:\\python\\lib\\site-packages (from pandas>=0.19.2->cufflinks) (2021.3)\n",
      "Requirement already satisfied: tenacity>=6.2.0 in c:\\python\\lib\\site-packages (from plotly>=4.1.1->cufflinks) (8.0.1)\n",
      "Requirement already satisfied: wcwidth in c:\\python\\lib\\site-packages (from prompt-toolkit!=3.0.0,!=3.0.1,<3.1.0,>=2.0.0->ipython>=5.3.0->cufflinks) (0.2.5)\n",
      "Requirement already satisfied: notebook>=4.4.1 in c:\\python\\lib\\site-packages (from widgetsnbextension~=3.5.0->ipywidgets>=7.0.0->cufflinks) (6.4.5)\n",
      "Requirement already satisfied: Send2Trash>=1.5.0 in c:\\python\\lib\\site-packages (from notebook>=4.4.1->widgetsnbextension~=3.5.0->ipywidgets>=7.0.0->cufflinks) (1.8.0)\n",
      "Requirement already satisfied: prometheus-client in c:\\python\\lib\\site-packages (from notebook>=4.4.1->widgetsnbextension~=3.5.0->ipywidgets>=7.0.0->cufflinks) (0.11.0)\n",
      "Requirement already satisfied: jinja2 in c:\\python\\lib\\site-packages (from notebook>=4.4.1->widgetsnbextension~=3.5.0->ipywidgets>=7.0.0->cufflinks) (2.11.3)\n",
      "Requirement already satisfied: terminado>=0.8.3 in c:\\python\\lib\\site-packages (from notebook>=4.4.1->widgetsnbextension~=3.5.0->ipywidgets>=7.0.0->cufflinks) (0.9.4)\n",
      "Requirement already satisfied: argon2-cffi in c:\\python\\lib\\site-packages (from notebook>=4.4.1->widgetsnbextension~=3.5.0->ipywidgets>=7.0.0->cufflinks) (20.1.0)\n",
      "Requirement already satisfied: nbconvert in c:\\python\\lib\\site-packages (from notebook>=4.4.1->widgetsnbextension~=3.5.0->ipywidgets>=7.0.0->cufflinks) (6.1.0)\n",
      "Requirement already satisfied: pywinpty>=0.5 in c:\\python\\lib\\site-packages (from terminado>=0.8.3->notebook>=4.4.1->widgetsnbextension~=3.5.0->ipywidgets>=7.0.0->cufflinks) (0.5.7)\n",
      "Requirement already satisfied: cffi>=1.0.0 in c:\\python\\lib\\site-packages (from argon2-cffi->notebook>=4.4.1->widgetsnbextension~=3.5.0->ipywidgets>=7.0.0->cufflinks) (1.14.6)\n",
      "Requirement already satisfied: pycparser in c:\\python\\lib\\site-packages (from cffi>=1.0.0->argon2-cffi->notebook>=4.4.1->widgetsnbextension~=3.5.0->ipywidgets>=7.0.0->cufflinks) (2.20)\n",
      "Requirement already satisfied: MarkupSafe>=0.23 in c:\\python\\lib\\site-packages (from jinja2->notebook>=4.4.1->widgetsnbextension~=3.5.0->ipywidgets>=7.0.0->cufflinks) (1.1.1)\n",
      "Requirement already satisfied: testpath in c:\\python\\lib\\site-packages (from nbconvert->notebook>=4.4.1->widgetsnbextension~=3.5.0->ipywidgets>=7.0.0->cufflinks) (0.5.0)\n",
      "Requirement already satisfied: entrypoints>=0.2.2 in c:\\python\\lib\\site-packages (from nbconvert->notebook>=4.4.1->widgetsnbextension~=3.5.0->ipywidgets>=7.0.0->cufflinks) (0.3)\n",
      "Requirement already satisfied: nbclient<0.6.0,>=0.5.0 in c:\\python\\lib\\site-packages (from nbconvert->notebook>=4.4.1->widgetsnbextension~=3.5.0->ipywidgets>=7.0.0->cufflinks) (0.5.3)\n",
      "Requirement already satisfied: bleach in c:\\python\\lib\\site-packages (from nbconvert->notebook>=4.4.1->widgetsnbextension~=3.5.0->ipywidgets>=7.0.0->cufflinks) (4.0.0)\n",
      "Requirement already satisfied: defusedxml in c:\\python\\lib\\site-packages (from nbconvert->notebook>=4.4.1->widgetsnbextension~=3.5.0->ipywidgets>=7.0.0->cufflinks) (0.7.1)\n",
      "Requirement already satisfied: jupyterlab-pygments in c:\\python\\lib\\site-packages (from nbconvert->notebook>=4.4.1->widgetsnbextension~=3.5.0->ipywidgets>=7.0.0->cufflinks) (0.1.2)\n",
      "Requirement already satisfied: mistune<2,>=0.8.1 in c:\\python\\lib\\site-packages (from nbconvert->notebook>=4.4.1->widgetsnbextension~=3.5.0->ipywidgets>=7.0.0->cufflinks) (0.8.4)\n",
      "Requirement already satisfied: pandocfilters>=1.4.1 in c:\\python\\lib\\site-packages (from nbconvert->notebook>=4.4.1->widgetsnbextension~=3.5.0->ipywidgets>=7.0.0->cufflinks) (1.4.3)\n",
      "Requirement already satisfied: async-generator in c:\\python\\lib\\site-packages (from nbclient<0.6.0,>=0.5.0->nbconvert->notebook>=4.4.1->widgetsnbextension~=3.5.0->ipywidgets>=7.0.0->cufflinks) (1.10)\n",
      "Requirement already satisfied: nest-asyncio in c:\\python\\lib\\site-packages (from nbclient<0.6.0,>=0.5.0->nbconvert->notebook>=4.4.1->widgetsnbextension~=3.5.0->ipywidgets>=7.0.0->cufflinks) (1.5.1)\n",
      "Requirement already satisfied: packaging in c:\\python\\lib\\site-packages (from bleach->nbconvert->notebook>=4.4.1->widgetsnbextension~=3.5.0->ipywidgets>=7.0.0->cufflinks) (21.0)\n",
      "Requirement already satisfied: webencodings in c:\\python\\lib\\site-packages (from bleach->nbconvert->notebook>=4.4.1->widgetsnbextension~=3.5.0->ipywidgets>=7.0.0->cufflinks) (0.5.1)\n",
      "Requirement already satisfied: pyparsing>=2.0.2 in c:\\python\\lib\\site-packages (from packaging->bleach->nbconvert->notebook>=4.4.1->widgetsnbextension~=3.5.0->ipywidgets>=7.0.0->cufflinks) (3.0.4)\n",
      "Note: you may need to restart the kernel to use updated packages.\n"
     ]
    }
   ],
   "source": [
    "pip install cufflinks"
   ]
  },
  {
   "cell_type": "code",
   "execution_count": 3,
   "id": "e4949dfa",
   "metadata": {},
   "outputs": [
    {
     "data": {
      "text/html": [
       "        <script type=\"text/javascript\">\n",
       "        window.PlotlyConfig = {MathJaxConfig: 'local'};\n",
       "        if (window.MathJax && window.MathJax.Hub && window.MathJax.Hub.Config) {window.MathJax.Hub.Config({SVG: {font: \"STIX-Web\"}});}\n",
       "        if (typeof require !== 'undefined') {\n",
       "        require.undef(\"plotly\");\n",
       "        requirejs.config({\n",
       "            paths: {\n",
       "                'plotly': ['https://cdn.plot.ly/plotly-2.12.1.min']\n",
       "            }\n",
       "        });\n",
       "        require(['plotly'], function(Plotly) {\n",
       "            window._Plotly = Plotly;\n",
       "        });\n",
       "        }\n",
       "        </script>\n",
       "        "
      ]
     },
     "metadata": {},
     "output_type": "display_data"
    },
    {
     "data": {
      "text/html": [
       "        <script type=\"text/javascript\">\n",
       "        window.PlotlyConfig = {MathJaxConfig: 'local'};\n",
       "        if (window.MathJax && window.MathJax.Hub && window.MathJax.Hub.Config) {window.MathJax.Hub.Config({SVG: {font: \"STIX-Web\"}});}\n",
       "        if (typeof require !== 'undefined') {\n",
       "        require.undef(\"plotly\");\n",
       "        requirejs.config({\n",
       "            paths: {\n",
       "                'plotly': ['https://cdn.plot.ly/plotly-2.12.1.min']\n",
       "            }\n",
       "        });\n",
       "        require(['plotly'], function(Plotly) {\n",
       "            window._Plotly = Plotly;\n",
       "        });\n",
       "        }\n",
       "        </script>\n",
       "        "
      ]
     },
     "metadata": {},
     "output_type": "display_data"
    }
   ],
   "source": [
    "#import numpy as np\n",
    "#import pandas as pd\n",
    "#import matplotlib.pyplot as plt\n",
    "#import seaborn as sns\n",
    "#import warnings\n",
    "#warnings.filterwarnings('ignore')\n",
    "#%matplotlib inline\n",
    "\n",
    "\n",
    "\n",
    "\n",
    "\n",
    "\n",
    "#importing libraries\n",
    "import numpy as np\n",
    "import pandas as pd\n",
    "import matplotlib.pyplot as plt\n",
    "import seaborn as sns\n",
    "from mpl_toolkits.mplot3d import Axes3D\n",
    "from plotly.offline import init_notebook_mode, iplot\n",
    "import plotly.figure_factory as ff\n",
    "import cufflinks\n",
    "cufflinks.go_offline()\n",
    "cufflinks.set_config_file(world_readable=True, theme='pearl')\n",
    "import plotly.graph_objs as go\n",
    "import plotly\n",
    "from plotly import tools\n",
    "import plotly.express as px\n",
    "from scipy.stats import boxcox\n",
    "init_notebook_mode(connected=True)\n",
    "#pd.set_option('display.max_columns', 100)\n",
    "#pd.set_option('display.max_rows', 500)\n",
    "#pd.set_option('display.max_columns', 500)\n",
    "#pd.set_option('display.width', 1000)"
   ]
  },
  {
   "cell_type": "markdown",
   "id": "03b3bc49",
   "metadata": {},
   "source": [
    "# application_data.csv Data check "
   ]
  },
  {
   "cell_type": "code",
   "execution_count": 4,
   "id": "7117245a",
   "metadata": {},
   "outputs": [
    {
     "ename": "FileNotFoundError",
     "evalue": "[Errno 2] No such file or directory: 'application_data.csv'",
     "output_type": "error",
     "traceback": [
      "\u001b[1;31m---------------------------------------------------------------------------\u001b[0m",
      "\u001b[1;31mFileNotFoundError\u001b[0m                         Traceback (most recent call last)",
      "\u001b[1;32mC:\\Users\\JAYATI~1.NL\\AppData\\Local\\Temp/ipykernel_22836/523124130.py\u001b[0m in \u001b[0;36m<module>\u001b[1;34m\u001b[0m\n\u001b[1;32m----> 1\u001b[1;33m \u001b[0mCurrentAppDf\u001b[0m \u001b[1;33m=\u001b[0m \u001b[0mpd\u001b[0m\u001b[1;33m.\u001b[0m\u001b[0mread_csv\u001b[0m\u001b[1;33m(\u001b[0m\u001b[1;34m'application_data.csv'\u001b[0m\u001b[1;33m,\u001b[0m\u001b[0mindex_col\u001b[0m\u001b[1;33m=\u001b[0m\u001b[1;36m0\u001b[0m\u001b[1;33m)\u001b[0m\u001b[1;33m\u001b[0m\u001b[1;33m\u001b[0m\u001b[0m\n\u001b[0m",
      "\u001b[1;32mC:\\Python\\lib\\site-packages\\pandas\\util\\_decorators.py\u001b[0m in \u001b[0;36mwrapper\u001b[1;34m(*args, **kwargs)\u001b[0m\n\u001b[0;32m    309\u001b[0m                     \u001b[0mstacklevel\u001b[0m\u001b[1;33m=\u001b[0m\u001b[0mstacklevel\u001b[0m\u001b[1;33m,\u001b[0m\u001b[1;33m\u001b[0m\u001b[1;33m\u001b[0m\u001b[0m\n\u001b[0;32m    310\u001b[0m                 )\n\u001b[1;32m--> 311\u001b[1;33m             \u001b[1;32mreturn\u001b[0m \u001b[0mfunc\u001b[0m\u001b[1;33m(\u001b[0m\u001b[1;33m*\u001b[0m\u001b[0margs\u001b[0m\u001b[1;33m,\u001b[0m \u001b[1;33m**\u001b[0m\u001b[0mkwargs\u001b[0m\u001b[1;33m)\u001b[0m\u001b[1;33m\u001b[0m\u001b[1;33m\u001b[0m\u001b[0m\n\u001b[0m\u001b[0;32m    312\u001b[0m \u001b[1;33m\u001b[0m\u001b[0m\n\u001b[0;32m    313\u001b[0m         \u001b[1;32mreturn\u001b[0m \u001b[0mwrapper\u001b[0m\u001b[1;33m\u001b[0m\u001b[1;33m\u001b[0m\u001b[0m\n",
      "\u001b[1;32mC:\\Python\\lib\\site-packages\\pandas\\io\\parsers\\readers.py\u001b[0m in \u001b[0;36mread_csv\u001b[1;34m(filepath_or_buffer, sep, delimiter, header, names, index_col, usecols, squeeze, prefix, mangle_dupe_cols, dtype, engine, converters, true_values, false_values, skipinitialspace, skiprows, skipfooter, nrows, na_values, keep_default_na, na_filter, verbose, skip_blank_lines, parse_dates, infer_datetime_format, keep_date_col, date_parser, dayfirst, cache_dates, iterator, chunksize, compression, thousands, decimal, lineterminator, quotechar, quoting, doublequote, escapechar, comment, encoding, encoding_errors, dialect, error_bad_lines, warn_bad_lines, on_bad_lines, delim_whitespace, low_memory, memory_map, float_precision, storage_options)\u001b[0m\n\u001b[0;32m    584\u001b[0m     \u001b[0mkwds\u001b[0m\u001b[1;33m.\u001b[0m\u001b[0mupdate\u001b[0m\u001b[1;33m(\u001b[0m\u001b[0mkwds_defaults\u001b[0m\u001b[1;33m)\u001b[0m\u001b[1;33m\u001b[0m\u001b[1;33m\u001b[0m\u001b[0m\n\u001b[0;32m    585\u001b[0m \u001b[1;33m\u001b[0m\u001b[0m\n\u001b[1;32m--> 586\u001b[1;33m     \u001b[1;32mreturn\u001b[0m \u001b[0m_read\u001b[0m\u001b[1;33m(\u001b[0m\u001b[0mfilepath_or_buffer\u001b[0m\u001b[1;33m,\u001b[0m \u001b[0mkwds\u001b[0m\u001b[1;33m)\u001b[0m\u001b[1;33m\u001b[0m\u001b[1;33m\u001b[0m\u001b[0m\n\u001b[0m\u001b[0;32m    587\u001b[0m \u001b[1;33m\u001b[0m\u001b[0m\n\u001b[0;32m    588\u001b[0m \u001b[1;33m\u001b[0m\u001b[0m\n",
      "\u001b[1;32mC:\\Python\\lib\\site-packages\\pandas\\io\\parsers\\readers.py\u001b[0m in \u001b[0;36m_read\u001b[1;34m(filepath_or_buffer, kwds)\u001b[0m\n\u001b[0;32m    480\u001b[0m \u001b[1;33m\u001b[0m\u001b[0m\n\u001b[0;32m    481\u001b[0m     \u001b[1;31m# Create the parser.\u001b[0m\u001b[1;33m\u001b[0m\u001b[1;33m\u001b[0m\u001b[0m\n\u001b[1;32m--> 482\u001b[1;33m     \u001b[0mparser\u001b[0m \u001b[1;33m=\u001b[0m \u001b[0mTextFileReader\u001b[0m\u001b[1;33m(\u001b[0m\u001b[0mfilepath_or_buffer\u001b[0m\u001b[1;33m,\u001b[0m \u001b[1;33m**\u001b[0m\u001b[0mkwds\u001b[0m\u001b[1;33m)\u001b[0m\u001b[1;33m\u001b[0m\u001b[1;33m\u001b[0m\u001b[0m\n\u001b[0m\u001b[0;32m    483\u001b[0m \u001b[1;33m\u001b[0m\u001b[0m\n\u001b[0;32m    484\u001b[0m     \u001b[1;32mif\u001b[0m \u001b[0mchunksize\u001b[0m \u001b[1;32mor\u001b[0m \u001b[0miterator\u001b[0m\u001b[1;33m:\u001b[0m\u001b[1;33m\u001b[0m\u001b[1;33m\u001b[0m\u001b[0m\n",
      "\u001b[1;32mC:\\Python\\lib\\site-packages\\pandas\\io\\parsers\\readers.py\u001b[0m in \u001b[0;36m__init__\u001b[1;34m(self, f, engine, **kwds)\u001b[0m\n\u001b[0;32m    809\u001b[0m             \u001b[0mself\u001b[0m\u001b[1;33m.\u001b[0m\u001b[0moptions\u001b[0m\u001b[1;33m[\u001b[0m\u001b[1;34m\"has_index_names\"\u001b[0m\u001b[1;33m]\u001b[0m \u001b[1;33m=\u001b[0m \u001b[0mkwds\u001b[0m\u001b[1;33m[\u001b[0m\u001b[1;34m\"has_index_names\"\u001b[0m\u001b[1;33m]\u001b[0m\u001b[1;33m\u001b[0m\u001b[1;33m\u001b[0m\u001b[0m\n\u001b[0;32m    810\u001b[0m \u001b[1;33m\u001b[0m\u001b[0m\n\u001b[1;32m--> 811\u001b[1;33m         \u001b[0mself\u001b[0m\u001b[1;33m.\u001b[0m\u001b[0m_engine\u001b[0m \u001b[1;33m=\u001b[0m \u001b[0mself\u001b[0m\u001b[1;33m.\u001b[0m\u001b[0m_make_engine\u001b[0m\u001b[1;33m(\u001b[0m\u001b[0mself\u001b[0m\u001b[1;33m.\u001b[0m\u001b[0mengine\u001b[0m\u001b[1;33m)\u001b[0m\u001b[1;33m\u001b[0m\u001b[1;33m\u001b[0m\u001b[0m\n\u001b[0m\u001b[0;32m    812\u001b[0m \u001b[1;33m\u001b[0m\u001b[0m\n\u001b[0;32m    813\u001b[0m     \u001b[1;32mdef\u001b[0m \u001b[0mclose\u001b[0m\u001b[1;33m(\u001b[0m\u001b[0mself\u001b[0m\u001b[1;33m)\u001b[0m\u001b[1;33m:\u001b[0m\u001b[1;33m\u001b[0m\u001b[1;33m\u001b[0m\u001b[0m\n",
      "\u001b[1;32mC:\\Python\\lib\\site-packages\\pandas\\io\\parsers\\readers.py\u001b[0m in \u001b[0;36m_make_engine\u001b[1;34m(self, engine)\u001b[0m\n\u001b[0;32m   1038\u001b[0m             )\n\u001b[0;32m   1039\u001b[0m         \u001b[1;31m# error: Too many arguments for \"ParserBase\"\u001b[0m\u001b[1;33m\u001b[0m\u001b[1;33m\u001b[0m\u001b[0m\n\u001b[1;32m-> 1040\u001b[1;33m         \u001b[1;32mreturn\u001b[0m \u001b[0mmapping\u001b[0m\u001b[1;33m[\u001b[0m\u001b[0mengine\u001b[0m\u001b[1;33m]\u001b[0m\u001b[1;33m(\u001b[0m\u001b[0mself\u001b[0m\u001b[1;33m.\u001b[0m\u001b[0mf\u001b[0m\u001b[1;33m,\u001b[0m \u001b[1;33m**\u001b[0m\u001b[0mself\u001b[0m\u001b[1;33m.\u001b[0m\u001b[0moptions\u001b[0m\u001b[1;33m)\u001b[0m  \u001b[1;31m# type: ignore[call-arg]\u001b[0m\u001b[1;33m\u001b[0m\u001b[1;33m\u001b[0m\u001b[0m\n\u001b[0m\u001b[0;32m   1041\u001b[0m \u001b[1;33m\u001b[0m\u001b[0m\n\u001b[0;32m   1042\u001b[0m     \u001b[1;32mdef\u001b[0m \u001b[0m_failover_to_python\u001b[0m\u001b[1;33m(\u001b[0m\u001b[0mself\u001b[0m\u001b[1;33m)\u001b[0m\u001b[1;33m:\u001b[0m\u001b[1;33m\u001b[0m\u001b[1;33m\u001b[0m\u001b[0m\n",
      "\u001b[1;32mC:\\Python\\lib\\site-packages\\pandas\\io\\parsers\\c_parser_wrapper.py\u001b[0m in \u001b[0;36m__init__\u001b[1;34m(self, src, **kwds)\u001b[0m\n\u001b[0;32m     49\u001b[0m \u001b[1;33m\u001b[0m\u001b[0m\n\u001b[0;32m     50\u001b[0m         \u001b[1;31m# open handles\u001b[0m\u001b[1;33m\u001b[0m\u001b[1;33m\u001b[0m\u001b[0m\n\u001b[1;32m---> 51\u001b[1;33m         \u001b[0mself\u001b[0m\u001b[1;33m.\u001b[0m\u001b[0m_open_handles\u001b[0m\u001b[1;33m(\u001b[0m\u001b[0msrc\u001b[0m\u001b[1;33m,\u001b[0m \u001b[0mkwds\u001b[0m\u001b[1;33m)\u001b[0m\u001b[1;33m\u001b[0m\u001b[1;33m\u001b[0m\u001b[0m\n\u001b[0m\u001b[0;32m     52\u001b[0m         \u001b[1;32massert\u001b[0m \u001b[0mself\u001b[0m\u001b[1;33m.\u001b[0m\u001b[0mhandles\u001b[0m \u001b[1;32mis\u001b[0m \u001b[1;32mnot\u001b[0m \u001b[1;32mNone\u001b[0m\u001b[1;33m\u001b[0m\u001b[1;33m\u001b[0m\u001b[0m\n\u001b[0;32m     53\u001b[0m \u001b[1;33m\u001b[0m\u001b[0m\n",
      "\u001b[1;32mC:\\Python\\lib\\site-packages\\pandas\\io\\parsers\\base_parser.py\u001b[0m in \u001b[0;36m_open_handles\u001b[1;34m(self, src, kwds)\u001b[0m\n\u001b[0;32m    220\u001b[0m         \u001b[0mLet\u001b[0m \u001b[0mthe\u001b[0m \u001b[0mreaders\u001b[0m \u001b[0mopen\u001b[0m \u001b[0mIOHandles\u001b[0m \u001b[0mafter\u001b[0m \u001b[0mthey\u001b[0m \u001b[0mare\u001b[0m \u001b[0mdone\u001b[0m \u001b[1;32mwith\u001b[0m \u001b[0mtheir\u001b[0m \u001b[0mpotential\u001b[0m \u001b[0mraises\u001b[0m\u001b[1;33m.\u001b[0m\u001b[1;33m\u001b[0m\u001b[1;33m\u001b[0m\u001b[0m\n\u001b[0;32m    221\u001b[0m         \"\"\"\n\u001b[1;32m--> 222\u001b[1;33m         self.handles = get_handle(\n\u001b[0m\u001b[0;32m    223\u001b[0m             \u001b[0msrc\u001b[0m\u001b[1;33m,\u001b[0m\u001b[1;33m\u001b[0m\u001b[1;33m\u001b[0m\u001b[0m\n\u001b[0;32m    224\u001b[0m             \u001b[1;34m\"r\"\u001b[0m\u001b[1;33m,\u001b[0m\u001b[1;33m\u001b[0m\u001b[1;33m\u001b[0m\u001b[0m\n",
      "\u001b[1;32mC:\\Python\\lib\\site-packages\\pandas\\io\\common.py\u001b[0m in \u001b[0;36mget_handle\u001b[1;34m(path_or_buf, mode, encoding, compression, memory_map, is_text, errors, storage_options)\u001b[0m\n\u001b[0;32m    700\u001b[0m         \u001b[1;32mif\u001b[0m \u001b[0mioargs\u001b[0m\u001b[1;33m.\u001b[0m\u001b[0mencoding\u001b[0m \u001b[1;32mand\u001b[0m \u001b[1;34m\"b\"\u001b[0m \u001b[1;32mnot\u001b[0m \u001b[1;32min\u001b[0m \u001b[0mioargs\u001b[0m\u001b[1;33m.\u001b[0m\u001b[0mmode\u001b[0m\u001b[1;33m:\u001b[0m\u001b[1;33m\u001b[0m\u001b[1;33m\u001b[0m\u001b[0m\n\u001b[0;32m    701\u001b[0m             \u001b[1;31m# Encoding\u001b[0m\u001b[1;33m\u001b[0m\u001b[1;33m\u001b[0m\u001b[0m\n\u001b[1;32m--> 702\u001b[1;33m             handle = open(\n\u001b[0m\u001b[0;32m    703\u001b[0m                 \u001b[0mhandle\u001b[0m\u001b[1;33m,\u001b[0m\u001b[1;33m\u001b[0m\u001b[1;33m\u001b[0m\u001b[0m\n\u001b[0;32m    704\u001b[0m                 \u001b[0mioargs\u001b[0m\u001b[1;33m.\u001b[0m\u001b[0mmode\u001b[0m\u001b[1;33m,\u001b[0m\u001b[1;33m\u001b[0m\u001b[1;33m\u001b[0m\u001b[0m\n",
      "\u001b[1;31mFileNotFoundError\u001b[0m: [Errno 2] No such file or directory: 'application_data.csv'"
     ]
    }
   ],
   "source": [
    "CurrentAppDf = pd.read_csv('application_data.csv',index_col=0)"
   ]
  },
  {
   "cell_type": "code",
   "execution_count": null,
   "id": "c0550ab5",
   "metadata": {},
   "outputs": [],
   "source": [
    "CurrentAppDf.head(100)"
   ]
  },
  {
   "cell_type": "code",
   "execution_count": null,
   "id": "7bdfc521",
   "metadata": {},
   "outputs": [],
   "source": [
    "CurrentAppDf.shape"
   ]
  },
  {
   "cell_type": "code",
   "execution_count": null,
   "id": "0b541a50",
   "metadata": {},
   "outputs": [],
   "source": [
    "CurrentAppDf.info(verbose=True, null_counts=True)"
   ]
  },
  {
   "cell_type": "code",
   "execution_count": null,
   "id": "41c08c20",
   "metadata": {},
   "outputs": [],
   "source": [
    "CurrentAppDf.describe()"
   ]
  },
  {
   "cell_type": "markdown",
   "id": "d6b8ebc1",
   "metadata": {},
   "source": [
    "# previous_application Data Check"
   ]
  },
  {
   "cell_type": "code",
   "execution_count": null,
   "id": "1ad5e04d",
   "metadata": {},
   "outputs": [],
   "source": [
    "PreviousAppdf = pd.read_csv(\"previous_application.csv\")\n",
    "PreviousAppdf.head(5)"
   ]
  },
  {
   "cell_type": "code",
   "execution_count": null,
   "id": "df76de42",
   "metadata": {},
   "outputs": [],
   "source": [
    "PreviousAppdf.shape"
   ]
  },
  {
   "cell_type": "code",
   "execution_count": null,
   "id": "f27678c5",
   "metadata": {},
   "outputs": [],
   "source": [
    "PreviousAppdf.info()"
   ]
  },
  {
   "cell_type": "code",
   "execution_count": null,
   "id": "3efc20d9",
   "metadata": {},
   "outputs": [],
   "source": [
    "PreviousAppdf.describe()"
   ]
  },
  {
   "cell_type": "markdown",
   "id": "0917067e",
   "metadata": {},
   "source": [
    "# Data Cleaning (application_data.csv)"
   ]
  },
  {
   "cell_type": "markdown",
   "id": "ab1b0313",
   "metadata": {},
   "source": [
    "#coming to Data Types-\n",
    "\n",
    "1.Numercic Type:-Income,Credit, Annuity, Goods Price\n",
    "2.Categorical Type-Contract Type, Education, Family Status, Housing Type, Gender\n",
    "3.Ordinal Type-\n",
    "4.Time & date Type-"
   ]
  },
  {
   "cell_type": "markdown",
   "id": "11b40e63",
   "metadata": {},
   "source": [
    "# <B>Finding the Missing values (check with Different percentage of values)<B>"
   ]
  },
  {
   "cell_type": "markdown",
   "id": "c17cac57",
   "metadata": {},
   "source": [
    "<B>Removing missing values<B>"
   ]
  },
  {
   "cell_type": "code",
   "execution_count": null,
   "id": "fe20dc54",
   "metadata": {},
   "outputs": [],
   "source": [
    "#Missing values in total columns\n",
    "\n",
    "round(CurrentAppDf.isnull().mean()*100,2).sort_values(ascending = False)\n"
   ]
  },
  {
   "cell_type": "code",
   "execution_count": null,
   "id": "1f6721f2",
   "metadata": {},
   "outputs": [],
   "source": [
    "\n",
    "# Removing columns with more than 40% nulls \n",
    "CurrentAppDf = CurrentAppDf.loc[:,CurrentAppDf.isnull().mean()<=0.4]\n",
    "CurrentAppDf.shape"
   ]
  },
  {
   "cell_type": "code",
   "execution_count": null,
   "id": "827babc7",
   "metadata": {},
   "outputs": [],
   "source": [
    "CurrentAppDf.dtypes"
   ]
  },
  {
   "cell_type": "markdown",
   "id": "8643ef35",
   "metadata": {},
   "source": [
    "# Univariate Analysis with Outliers"
   ]
  },
  {
   "cell_type": "markdown",
   "id": "1f66bc27",
   "metadata": {},
   "source": [
    "<B>AMT_INCOME_TOTAL Analysis<B>"
   ]
  },
  {
   "cell_type": "code",
   "execution_count": null,
   "id": "e5dfb4cc",
   "metadata": {},
   "outputs": [],
   "source": [
    "CurrentAppDf.AMT_INCOME_TOTAL.describe()"
   ]
  },
  {
   "cell_type": "code",
   "execution_count": null,
   "id": "2111dc6d",
   "metadata": {},
   "outputs": [],
   "source": [
    "#Handeling Missing values of Income column\n",
    "#count\n",
    "CurrentAppDf.AMT_INCOME_TOTAL.isnull().sum()"
   ]
  },
  {
   "cell_type": "code",
   "execution_count": null,
   "id": "3ef305d6",
   "metadata": {},
   "outputs": [],
   "source": [
    "CurrentAppDf.AMT_INCOME_TOTAL.plot.hist()\n",
    "plt.show"
   ]
  },
  {
   "cell_type": "code",
   "execution_count": null,
   "id": "1d529112",
   "metadata": {},
   "outputs": [],
   "source": [
    "#BoxPlot for AMT_INCOME_TOTAL\n",
    "plt.figure(figsize=[10,4])\n",
    "sns.boxplot(CurrentAppDf.AMT_INCOME_TOTAL)\n",
    "plt.show()"
   ]
  },
  {
   "cell_type": "markdown",
   "id": "07ca9da3",
   "metadata": {},
   "source": [
    "<B>AMT_CREDIT Analysis<B>"
   ]
  },
  {
   "cell_type": "code",
   "execution_count": null,
   "id": "5962570b",
   "metadata": {},
   "outputs": [],
   "source": [
    "CurrentAppDf.AMT_CREDIT.describe()"
   ]
  },
  {
   "cell_type": "code",
   "execution_count": null,
   "id": "ad6f55d0",
   "metadata": {},
   "outputs": [],
   "source": [
    "#handeling Missing values of Credit Column\n",
    "#Count\n",
    "CurrentAppDf.AMT_CREDIT.isnull().sum()"
   ]
  },
  {
   "cell_type": "code",
   "execution_count": null,
   "id": "cd627278",
   "metadata": {},
   "outputs": [],
   "source": [
    "#BoxPlot for AMT_CREDIT\n",
    "sns.boxplot(CurrentAppDf['AMT_CREDIT'])\n",
    "plt.show()"
   ]
  },
  {
   "cell_type": "code",
   "execution_count": null,
   "id": "c9194c46",
   "metadata": {},
   "outputs": [],
   "source": [
    "#handeling Missing values of Annuity Column\n",
    "#Count\n",
    "CurrentAppDf.AMT_ANNUITY.isnull().sum()"
   ]
  },
  {
   "cell_type": "code",
   "execution_count": null,
   "id": "595ddcca",
   "metadata": {},
   "outputs": [],
   "source": [
    "CurrentAppDf['AMT_ANNUITY'].value_counts()"
   ]
  },
  {
   "cell_type": "code",
   "execution_count": null,
   "id": "ee300059",
   "metadata": {},
   "outputs": [],
   "source": [
    "#BoxPlot for AMT_ANNUITY\n",
    "sns.boxplot(CurrentAppDf['AMT_ANNUITY'])\n",
    "plt.show()\n"
   ]
  },
  {
   "cell_type": "code",
   "execution_count": null,
   "id": "b536be73",
   "metadata": {},
   "outputs": [],
   "source": [
    "#handeling Missing values of Price Column\n",
    "#Count\n",
    "CurrentAppDf.AMT_GOODS_PRICE.isnull().sum()"
   ]
  },
  {
   "cell_type": "code",
   "execution_count": null,
   "id": "cb98563b",
   "metadata": {},
   "outputs": [],
   "source": [
    "#BoxPlot for AMT_ANNUITY\n",
    "sns.boxplot(CurrentAppDf['AMT_GOODS_PRICE'])\n",
    "plt.show()\n"
   ]
  },
  {
   "cell_type": "code",
   "execution_count": null,
   "id": "5d59d011",
   "metadata": {},
   "outputs": [],
   "source": [
    "CurrentAppDf.shape"
   ]
  },
  {
   "cell_type": "code",
   "execution_count": null,
   "id": "891e6ef7",
   "metadata": {},
   "outputs": [],
   "source": [
    "CurrentAppDf.WEEKDAY_APPR_PROCESS_START.value_counts(normalize=True).plot.bar()\n",
    "\n",
    "plt.show()"
   ]
  },
  {
   "cell_type": "code",
   "execution_count": null,
   "id": "761ce5b3",
   "metadata": {},
   "outputs": [],
   "source": [
    "\n",
    "CurrentAppDf.DAYS_BIRTH.value_counts(normalize=True).plot.bar()\n",
    "\n",
    "plt.show()"
   ]
  },
  {
   "cell_type": "code",
   "execution_count": null,
   "id": "134547ad",
   "metadata": {},
   "outputs": [],
   "source": [
    "#percentage of Defaulters & non Defaulters here Defaulter=1 and Non Defaulter=0\n",
    "CurrentAppDf.TARGET.value_counts(normalize=True)\n",
    "CurrentAppDf.TARGET.value_counts(normalize=True).plot.bar()\n",
    "\n",
    "plt.show()"
   ]
  },
  {
   "cell_type": "code",
   "execution_count": null,
   "id": "6254d2e4",
   "metadata": {},
   "outputs": [],
   "source": []
  },
  {
   "cell_type": "code",
   "execution_count": null,
   "id": "e86d7b22",
   "metadata": {},
   "outputs": [],
   "source": [
    "# Dividing the original dataset into two different datasets depending upon the target value\n",
    "NonDefaulter = CurrentAppDf.loc[CurrentAppDf.TARGET == 0]\n",
    "Defaulter = CurrentAppDf.loc[CurrentAppDf.TARGET == 1]"
   ]
  },
  {
   "cell_type": "markdown",
   "id": "4c466410",
   "metadata": {},
   "source": [
    "# Univariate Analysis For other Features"
   ]
  },
  {
   "cell_type": "markdown",
   "id": "21cda1d8",
   "metadata": {},
   "source": [
    "<B>NAME_FAMILY_STATUS Univariate Analysis<B>"
   ]
  },
  {
   "cell_type": "code",
   "execution_count": null,
   "id": "878c88b6",
   "metadata": {},
   "outputs": [],
   "source": [
    "CurrentAppDf.NAME_FAMILY_STATUS.value_counts()"
   ]
  },
  {
   "cell_type": "code",
   "execution_count": null,
   "id": "4432c871",
   "metadata": {},
   "outputs": [],
   "source": [
    "CurrentAppDf.NAME_FAMILY_STATUS.value_counts(normalize=True)"
   ]
  },
  {
   "cell_type": "code",
   "execution_count": null,
   "id": "585ae3be",
   "metadata": {
    "scrolled": true
   },
   "outputs": [],
   "source": [
    "#CurrentAppDf[~(CurrentAppDf.poutcome==\"unknown\")].NAME_FAMILY_STATUS.value_counts(normalize=True).plot.bar()\n",
    "CurrentAppDf.NAME_FAMILY_STATUS.value_counts(normalize=True).plot.bar()\n",
    "\n",
    "plt.show()"
   ]
  },
  {
   "cell_type": "code",
   "execution_count": null,
   "id": "6a895012",
   "metadata": {},
   "outputs": [],
   "source": [
    "def UnivarNonDefaulter(var):\n",
    "    Uni1   = NonDefaulter[var].value_counts()\n",
    "    df = (pd.DataFrame({'labels': Uni1.index,'values': Uni1.values})).iplot(kind='pie',labels='labels',values='values', title=f'Distibution of {var} NonDefaulter')\n",
    "\n",
    "\n",
    "def UnivarDefaulter(var):\n",
    "    Uni1   = Defaulter[var].value_counts()\n",
    "    df = (pd.DataFrame({'labels': Uni1.index,'values': Uni1.values})).iplot(kind='pie',labels='labels',values='values', title=f'Distibution of {var} Defaulter')\n",
    "\n",
    "\n",
    "UnivarNonDefaulter('NAME_FAMILY_STATUS')\n",
    "UnivarDefaulter('NAME_FAMILY_STATUS')"
   ]
  },
  {
   "cell_type": "markdown",
   "id": "8d683cb9",
   "metadata": {},
   "source": [
    "By seeing the graph it is clear that  Married people are taking more loans. They are responsible & committed enough rather than Single , separated & widow ,so they are more non-deafilters\n",
    "\n"
   ]
  },
  {
   "cell_type": "code",
   "execution_count": null,
   "id": "5808c3bf",
   "metadata": {},
   "outputs": [],
   "source": [
    "\n",
    "UnivarNonDefaulter('AMT_INCOME_TOTAL')\n",
    "UnivarDefaulter('AMT_INCOME_TOTAL')\n"
   ]
  },
  {
   "cell_type": "code",
   "execution_count": null,
   "id": "4d64d330",
   "metadata": {
    "scrolled": true
   },
   "outputs": [],
   "source": [
    "UnivarNonDefaulter('CODE_GENDER')\n",
    "UnivarDefaulter('CODE_GENDER')"
   ]
  },
  {
   "cell_type": "code",
   "execution_count": null,
   "id": "ab60eae8",
   "metadata": {},
   "outputs": [],
   "source": [
    "UnivarNonDefaulter('NAME_INCOME_TYPE')\n",
    "UnivarDefaulter('NAME_INCOME_TYPE')"
   ]
  },
  {
   "cell_type": "code",
   "execution_count": null,
   "id": "ca1f5046",
   "metadata": {},
   "outputs": [],
   "source": [
    "UnivarNonDefaulter('NAME_EDUCATION_TYPE')\n",
    "UnivarDefaulter('NAME_EDUCATION_TYPE')"
   ]
  },
  {
   "cell_type": "code",
   "execution_count": null,
   "id": "e8ee0ae7",
   "metadata": {},
   "outputs": [],
   "source": [
    "CurrentAppDf.AMT_INCOME_TOTAL.value_counts(normalize=True).plot.hist\n",
    "\n",
    "plt.show()"
   ]
  },
  {
   "cell_type": "code",
   "execution_count": null,
   "id": "8deeb5cf",
   "metadata": {},
   "outputs": [],
   "source": [
    "UnivarNonDefaulter('NAME_CONTRACT_TYPE')\n",
    "UnivarDefaulter('NAME_CONTRACT_TYPE')"
   ]
  },
  {
   "cell_type": "code",
   "execution_count": null,
   "id": "9e2160c1",
   "metadata": {},
   "outputs": [],
   "source": [
    "UnivarNonDefaulter('NAME_HOUSING_TYPE')\n",
    "UnivarDefaulter('NAME_HOUSING_TYPE')"
   ]
  },
  {
   "cell_type": "code",
   "execution_count": null,
   "id": "84d8f029",
   "metadata": {},
   "outputs": [],
   "source": [
    "UnivarNonDefaulter('NAME_CONTRACT_TYPE')\n",
    "UnivarDefaulter('NAME_CONTRACT_TYPE')"
   ]
  },
  {
   "cell_type": "code",
   "execution_count": null,
   "id": "8aeddfc2",
   "metadata": {},
   "outputs": [],
   "source": [
    "UnivarNonDefaulter('NAME_TYPE_SUITE')\n",
    "UnivarDefaulter('NAME_TYPE_SUITE')"
   ]
  },
  {
   "cell_type": "code",
   "execution_count": null,
   "id": "e9f62f54",
   "metadata": {},
   "outputs": [],
   "source": [
    "CurrentAppDf.info(verbose=True, null_counts=True)\n"
   ]
  },
  {
   "cell_type": "code",
   "execution_count": null,
   "id": "9e266dc0",
   "metadata": {},
   "outputs": [],
   "source": []
  },
  {
   "cell_type": "code",
   "execution_count": null,
   "id": "048b9530",
   "metadata": {},
   "outputs": [],
   "source": []
  },
  {
   "cell_type": "code",
   "execution_count": null,
   "id": "9408359a",
   "metadata": {},
   "outputs": [],
   "source": [
    "#CurrentAppDf.NAME_INCOME_TYPE.value_counts(normalize=True).plot.pie()\n",
    "CurrentAppDf.NAME_INCOME_TYPE.value_counts(normalize=True).plot.hist()\n",
    "plt.show()"
   ]
  },
  {
   "cell_type": "markdown",
   "id": "5ed68d11",
   "metadata": {},
   "source": [
    "# Bivariate Analysis"
   ]
  },
  {
   "cell_type": "markdown",
   "id": "d19ce18c",
   "metadata": {},
   "source": [
    "<B>AMT_INCOME_TOTAL<B>"
   ]
  },
  {
   "cell_type": "code",
   "execution_count": null,
   "id": "c17cbd31",
   "metadata": {},
   "outputs": [],
   "source": [
    "#Bivariate with Target& AMT_INCOME_TOTAL\n",
    "\n",
    "CurrentAppDf.groupby(\"TARGET\")['AMT_INCOME_TOTAL'].mean()\n"
   ]
  },
  {
   "cell_type": "code",
   "execution_count": null,
   "id": "948d6fce",
   "metadata": {},
   "outputs": [],
   "source": [
    "CurrentAppDf.groupby(\"TARGET\")['AMT_INCOME_TOTAL'].median()"
   ]
  },
  {
   "cell_type": "code",
   "execution_count": null,
   "id": "ec9b6889",
   "metadata": {},
   "outputs": [],
   "source": [
    "#plot the box plot of salary for yes & no responses.\n",
    "sns.boxplot( data = NonDefaulter, x = 'TARGET', y = 'AMT_INCOME_TOTAL' )\n",
    "plt.show()"
   ]
  },
  {
   "cell_type": "code",
   "execution_count": null,
   "id": "1337c91a",
   "metadata": {},
   "outputs": [],
   "source": [
    "#plot the box plot of salary for yes & no responses.\n",
    "sns.boxplot( data = Defaulter, x = 'TARGET', y = 'AMT_INCOME_TOTAL' )\n",
    "plt.show()"
   ]
  },
  {
   "cell_type": "code",
   "execution_count": null,
   "id": "731b1b37",
   "metadata": {},
   "outputs": [],
   "source": [
    "def BivarNonDefaulter(var0,var1,var2):\n",
    "    fig1 = px.box(NonDefaulter, x=var0, y=var1, color=var2, title=f\"{var0} vs {var1} in respect to NonDefaulter\")\n",
    "    fig1.show()\n",
    "\n",
    "def BivarDefaulter(var0,var1,var2):\n",
    "    fig2 = px.box(Defaulter, x=var0, y=var1, color=var2, title=f\"{var0} vs {var1} in respect to Defaulter\")\n",
    "    fig2.show()\n",
    "    \n",
    "BivarNonDefaulter('NAME_EDUCATION_TYPE','AMT_CREDIT','NAME_FAMILY_STATUS')\n",
    "BivarDefaulter('NAME_EDUCATION_TYPE','AMT_CREDIT','NAME_FAMILY_STATUS')"
   ]
  },
  {
   "cell_type": "code",
   "execution_count": null,
   "id": "d9c8a8e4",
   "metadata": {},
   "outputs": [],
   "source": [
    "    \n",
    "BivarNonDefaulter('NAME_INCOME_TYPE','AMT_CREDIT','NAME_FAMILY_STATUS')\n",
    "BivarDefaulter('NAME_INCOME_TYPE','AMT_CREDIT','NAME_FAMILY_STATUS')"
   ]
  },
  {
   "cell_type": "code",
   "execution_count": null,
   "id": "21ace687",
   "metadata": {},
   "outputs": [],
   "source": [
    "BivarNonDefaulter('NAME_HOUSING_TYPE','AMT_CREDIT','NAME_FAMILY_STATUS')\n",
    "BivarDefaulter('NAME_HOUSING_TYPE','AMT_CREDIT','NAME_FAMILY_STATUS')"
   ]
  },
  {
   "cell_type": "code",
   "execution_count": null,
   "id": "e409e5fc",
   "metadata": {},
   "outputs": [],
   "source": [
    "BivarNonDefaulter('NAME_EDUCATION_TYPE','AMT_ANNUITY','NAME_INCOME_TYPE')\n",
    "BivarDefaulter('NAME_EDUCATION_TYPE','AMT_ANNUITY','NAME_INCOME_TYPE')"
   ]
  },
  {
   "cell_type": "code",
   "execution_count": null,
   "id": "2e2c172a",
   "metadata": {},
   "outputs": [],
   "source": [
    "BivarNonDefaulter('NAME_CONTRACT_TYPE','AMT_ANNUITY','NAME_INCOME_TYPE')\n",
    "BivarDefaulter('NAME_CONTRACT_TYPE','AMT_ANNUITY','NAME_INCOME_TYPE')"
   ]
  },
  {
   "cell_type": "code",
   "execution_count": null,
   "id": "4a0626be",
   "metadata": {},
   "outputs": [],
   "source": [
    "BivarNonDefaulter('NAME_CONTRACT_TYPE','AMT_GOODS_PRICE','NAME_INCOME_TYPE')\n",
    "BivarDefaulter('NAME_CONTRACT_TYPE','AMT_GOODS_PRICE','NAME_INCOME_TYPE')"
   ]
  },
  {
   "cell_type": "code",
   "execution_count": null,
   "id": "cfb40733",
   "metadata": {},
   "outputs": [],
   "source": [
    "#plotting the corelation between numerics\n",
    "plt.figure(figsize=[20,8])\n",
    "sns.pairplot(Defaulter[['AMT_ANNUITY','AMT_INCOME_TOTAL','AMT_CREDIT','AMT_GOODS_PRICE','NAME_CONTRACT_TYPE']], \n",
    "             diag_kind = 'kde', \n",
    "             plot_kws = {'alpha': 0.4, 's': 80, 'edgecolor': 'k'},\n",
    "             height = 4)\n",
    "plt.show()"
   ]
  },
  {
   "cell_type": "code",
   "execution_count": null,
   "id": "0a833aab",
   "metadata": {
    "scrolled": true
   },
   "outputs": [],
   "source": [
    "#plotting the corelation between numerics\n",
    "plt.figure(figsize=[20,8])\n",
    "sns.pairplot(NonDefaulter[['AMT_ANNUITY','AMT_INCOME_TOTAL','AMT_CREDIT','AMT_GOODS_PRICE','NAME_CONTRACT_TYPE']], \n",
    "             diag_kind = 'kde', \n",
    "             plot_kws = {'alpha': 0.4, 's': 80, 'edgecolor': 'k'},\n",
    "             height = 4)\n",
    "plt.show()"
   ]
  },
  {
   "cell_type": "markdown",
   "id": "f2244e71",
   "metadata": {},
   "source": [
    "# Some Observations:-\n",
    "\n",
    "1.\n",
    "2."
   ]
  },
  {
   "cell_type": "markdown",
   "id": "2e7ae2cb",
   "metadata": {},
   "source": [
    "# Segmented Univariate analysis"
   ]
  },
  {
   "cell_type": "code",
   "execution_count": null,
   "id": "d26180c6",
   "metadata": {},
   "outputs": [],
   "source": [
    "sns.boxplot(CurrentAppDf['AMT_ANNUITY'])\n",
    "plt.show()\n",
    "\n",
    "df_segmented = CurrentAppDf[np.logical_and(CurrentAppDf.AMT_ANNUITY>20000,CurrentAppDf.AMT_ANNUITY<50000)]\n",
    "df_segmented.sample(45000)\n",
    "\n",
    "\n",
    "sns.boxplot(df_segmented.AMT_ANNUITY)"
   ]
  },
  {
   "cell_type": "code",
   "execution_count": null,
   "id": "d6693a75",
   "metadata": {},
   "outputs": [],
   "source": [
    "sns.boxplot(CurrentAppDf['AMT_CREDIT'])\n",
    "plt.show()\n",
    "\n",
    "df_segmented = CurrentAppDf[np.logical_and(CurrentAppDf.AMT_CREDIT>2000,CurrentAppDf.AMT_CREDIT<5000)]\n",
    "df_segmented.sample(4500)\n",
    "\n",
    "\n",
    "sns.boxplot(df_segmented.AMT_CREDIT)"
   ]
  },
  {
   "cell_type": "markdown",
   "id": "19bd9a26",
   "metadata": {},
   "source": [
    "# Merge Two File"
   ]
  },
  {
   "cell_type": "code",
   "execution_count": null,
   "id": "536d2ab7",
   "metadata": {},
   "outputs": [],
   "source": [
    "## Merging the two files to do some analysis\n",
    "MergeDf = pd.merge(CurrentAppDf, PreviousAppdf, how='inner', on=['SK_ID_CURR'])\n",
    "MergeDf.shape"
   ]
  },
  {
   "cell_type": "code",
   "execution_count": null,
   "id": "f610d7bd",
   "metadata": {},
   "outputs": [],
   "source": [
    "New =MergeDf.head(100)\n",
    "New"
   ]
  },
  {
   "cell_type": "code",
   "execution_count": null,
   "id": "4b3770c6",
   "metadata": {},
   "outputs": [],
   "source": [
    "New_Df = New[['SK_ID_CURR','TARGET','NAME_CONTRACT_TYPE_x','CODE_GENDER','FLAG_OWN_CAR','FLAG_OWN_REALTY','CNT_CHILDREN','AMT_INCOME_TOTAL','AMT_CREDIT_x','AMT_ANNUITY_x']].copy()\n",
    "New_Df"
   ]
  },
  {
   "cell_type": "code",
   "execution_count": null,
   "id": "91988779",
   "metadata": {
    "scrolled": true
   },
   "outputs": [],
   "source": [
    "New_Df.shape\n"
   ]
  },
  {
   "cell_type": "markdown",
   "id": "6b31b6a3",
   "metadata": {},
   "source": [
    "# Corelation between Current and Previous Application"
   ]
  },
  {
   "cell_type": "code",
   "execution_count": null,
   "id": "7d097684",
   "metadata": {
    "scrolled": true
   },
   "outputs": [],
   "source": [
    "Correlation = New_Df.corr()\n",
    "Correlation.sort_values(by=[\"TARGET\"],ascending=False,inplace=True)\n",
    "f, ax = plt.subplots(figsize=(20,12))\n",
    "sns.heatmap(Correlation,annot=True)\n",
    "plt.show()"
   ]
  },
  {
   "cell_type": "code",
   "execution_count": null,
   "id": "708c21e0",
   "metadata": {},
   "outputs": [],
   "source": [
    "Correlation.head(6)[\"TARGET\"][1:]"
   ]
  },
  {
   "cell_type": "code",
   "execution_count": null,
   "id": "2d51eff4",
   "metadata": {},
   "outputs": [],
   "source": [
    "Correlation.tail(6)[\"TARGET\"][1:]"
   ]
  },
  {
   "cell_type": "markdown",
   "id": "8741e6f3",
   "metadata": {},
   "source": [
    "AMT_INCOME_TOTAL ,AMT_ANNUITY_x ,AMT_CREDIT_x ,CNT_CHILDREN    \n",
    "these are the variables which contributing more or are the decision maker for a loan defaulter"
   ]
  },
  {
   "cell_type": "code",
   "execution_count": null,
   "id": "cc5e279f",
   "metadata": {},
   "outputs": [],
   "source": [
    "MergeDf.TARGET.value_counts(normalize=True).plot.bar()\n",
    "\n",
    "plt.show()"
   ]
  },
  {
   "cell_type": "code",
   "execution_count": null,
   "id": "84dfdf48",
   "metadata": {},
   "outputs": [],
   "source": [
    "\n",
    "\n",
    "MergeDf.NAME_CONTRACT_TYPE_x.value_counts(normalize=True).plot.bar()\n",
    "\n",
    "plt.show()"
   ]
  }
 ],
 "metadata": {
  "kernelspec": {
   "display_name": "Python 3 (ipykernel)",
   "language": "python",
   "name": "python3"
  },
  "language_info": {
   "codemirror_mode": {
    "name": "ipython",
    "version": 3
   },
   "file_extension": ".py",
   "mimetype": "text/x-python",
   "name": "python",
   "nbconvert_exporter": "python",
   "pygments_lexer": "ipython3",
   "version": "3.9.7"
  }
 },
 "nbformat": 4,
 "nbformat_minor": 5
}
